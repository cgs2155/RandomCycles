{
 "cells": [
  {
   "cell_type": "code",
   "execution_count": 1,
   "metadata": {},
   "outputs": [],
   "source": [
    "import random\n",
    "\n",
    "def generate_random_order(n, seed_value):\n",
    "    # Set the random seed for reproducibility\n",
    "    random.seed(seed_value)\n",
    "    \n",
    "    # Create a list [1, 2, ..., n]\n",
    "    numbers = list(range(1, n+1))\n",
    "    \n",
    "    # Shuffle the list in-place\n",
    "    random.shuffle(numbers)\n",
    "    return numbers\n",
    "\n"
   ]
  },
  {
   "cell_type": "code",
   "execution_count": 3,
   "metadata": {},
   "outputs": [
    {
     "name": "stdout",
     "output_type": "stream",
     "text": [
      "[8, 4, 3, 9, 6, 7, 10, 5, 1, 2]\n",
      "[2, 4, 6, 10, 9, 1, 3, 8, 7, 5]\n"
     ]
    }
   ],
   "source": [
    "# Example usage:\n",
    "order_1 = generate_random_order(10, seed_value=42)\n",
    "order_2 = generate_random_order(10, seed_value=45)\n",
    "print(order_1)\n",
    "print(order_2)"
   ]
  },
  {
   "cell_type": "code",
   "execution_count": 4,
   "metadata": {},
   "outputs": [],
   "source": [
    "import random\n",
    "\n",
    "def generate_random_order(n, seed=None):\n",
    "    \"\"\"\n",
    "    Generate a random ordering of numbers from 1 to n.\n",
    "    If seed is None, a new seed is generated.\n",
    "    The function returns (ordering, used_seed).\n",
    "    \"\"\"\n",
    "    # If no seed is provided, create one (e.g., using SystemRandom for better randomness)\n",
    "    if seed is None:\n",
    "        seed = random.SystemRandom().randint(0, 2**32 - 1)\n",
    "    \n",
    "    # Use this seed\n",
    "    random.seed(seed)\n",
    "    \n",
    "    # Create and shuffle the list\n",
    "    numbers = list(range(1, n+1))\n",
    "    random.shuffle(numbers)\n",
    "    \n",
    "    return numbers, seed\n",
    "\n",
    "# Example usage:\n",
    "order, used_seed = generate_random_order(10)"
   ]
  },
  {
   "cell_type": "code",
   "execution_count": 5,
   "metadata": {},
   "outputs": [
    {
     "data": {
      "text/plain": [
       "1176109453"
      ]
     },
     "execution_count": 5,
     "metadata": {},
     "output_type": "execute_result"
    }
   ],
   "source": [
    "used_seed"
   ]
  },
  {
   "cell_type": "code",
   "execution_count": 6,
   "metadata": {},
   "outputs": [
    {
     "name": "stdout",
     "output_type": "stream",
     "text": [
      "21\n",
      "46\n"
     ]
    }
   ],
   "source": [
    "import random\n",
    "\n",
    "\n",
    "random.seed(1176109453)\n",
    "\n",
    "print(random.randint(1, 100))\n",
    "print(random.randint(1, 100))"
   ]
  },
  {
   "cell_type": "code",
   "execution_count": 8,
   "metadata": {},
   "outputs": [
    {
     "name": "stdout",
     "output_type": "stream",
     "text": [
      "86\n",
      "9\n"
     ]
    }
   ],
   "source": [
    "import random\n",
    "\n",
    "\n",
    "random.seed(1176109452)\n",
    "\n",
    "print(random.randint(1, 100))\n",
    "print(random.randint(1, 100))"
   ]
  },
  {
   "cell_type": "code",
   "execution_count": 9,
   "metadata": {},
   "outputs": [
    {
     "name": "stdout",
     "output_type": "stream",
     "text": [
      "86\n",
      "9\n"
     ]
    }
   ],
   "source": [
    "import random\n",
    "\n",
    "\n",
    "random.seed(1176109452)\n",
    "\n",
    "print(random.randint(1, 100))\n",
    "print(random.randint(1, 100))"
   ]
  },
  {
   "cell_type": "code",
   "execution_count": 2,
   "metadata": {},
   "outputs": [],
   "source": [
    "from _counttools import gen_necklace\n",
    "\n"
   ]
  },
  {
   "cell_type": "code",
   "execution_count": 3,
   "metadata": {},
   "outputs": [
    {
     "data": {
      "text/plain": [
       "(1, 4, 3, 2, 5, 6)"
      ]
     },
     "execution_count": 3,
     "metadata": {},
     "output_type": "execute_result"
    }
   ],
   "source": [
    "gen_necklace(3)"
   ]
  },
  {
   "cell_type": "code",
   "execution_count": 6,
   "metadata": {},
   "outputs": [
    {
     "data": {
      "text/plain": [
       "[(1, 4, 3, 6, 5, 2, 7, 8),\n",
       " (1, 2, 7, 8, 5, 4, 3, 6),\n",
       " (1, 4, 3, 2, 5, 6, 7, 8),\n",
       " (1, 2, 5, 4, 7, 6, 3, 8),\n",
       " (1, 4, 3, 8, 7, 2, 5, 6),\n",
       " (1, 2, 7, 6, 3, 8, 5, 4),\n",
       " (1, 2, 7, 8, 5, 6, 3, 4),\n",
       " (1, 6, 7, 4, 3, 2, 5, 8),\n",
       " (1, 2, 5, 6, 7, 4, 3, 8),\n",
       " (1, 4, 5, 6, 7, 2, 3, 8)]"
      ]
     },
     "execution_count": 6,
     "metadata": {},
     "output_type": "execute_result"
    }
   ],
   "source": [
    "seed = 1176109452\n",
    "random.seed(seed)\n",
    "n=4\n",
    "necklaces1 = []\n",
    "for i in range(0,10):\n",
    "    necklaces1.append(gen_necklace(4))\n",
    "\n",
    "necklaces1"
   ]
  },
  {
   "cell_type": "code",
   "execution_count": 7,
   "metadata": {},
   "outputs": [
    {
     "data": {
      "text/plain": [
       "[(1, 4, 3, 8, 5, 2, 7, 6),\n",
       " (1, 6, 7, 4, 5, 2, 3, 8),\n",
       " (1, 2, 5, 6, 7, 8, 3, 4),\n",
       " (1, 2, 7, 6, 3, 8, 5, 4),\n",
       " (1, 4, 7, 8, 5, 2, 3, 6),\n",
       " (1, 4, 3, 8, 5, 2, 7, 6),\n",
       " (1, 2, 7, 4, 5, 8, 3, 6),\n",
       " (1, 4, 3, 2, 5, 8, 7, 6),\n",
       " (1, 2, 7, 6, 3, 8, 5, 4),\n",
       " (1, 6, 5, 4, 7, 2, 3, 8)]"
      ]
     },
     "execution_count": 7,
     "metadata": {},
     "output_type": "execute_result"
    }
   ],
   "source": [
    "seed = 1176109453\n",
    "random.seed(seed)\n",
    "\n",
    "n=4\n",
    "necklaces2 = []\n",
    "for i in range(0,10):\n",
    "    necklaces2.append(gen_necklace(4))\n",
    "\n",
    "necklaces2"
   ]
  },
  {
   "cell_type": "code",
   "execution_count": 8,
   "metadata": {},
   "outputs": [
    {
     "data": {
      "text/plain": [
       "[(1, 4, 3, 6, 5, 2, 7, 8),\n",
       " (1, 4, 7, 8, 3, 2, 5, 6),\n",
       " (1, 2, 3, 8, 7, 4, 5, 6),\n",
       " (1, 2, 5, 4, 3, 6, 7, 8),\n",
       " (1, 2, 7, 4, 5, 8, 3, 6),\n",
       " (1, 6, 7, 4, 3, 2, 5, 8),\n",
       " (1, 2, 3, 8, 7, 6, 5, 4),\n",
       " (1, 4, 3, 6, 5, 2, 7, 8),\n",
       " (1, 2, 3, 6, 5, 8, 7, 4),\n",
       " (1, 2, 5, 8, 7, 6, 3, 4)]"
      ]
     },
     "execution_count": 8,
     "metadata": {},
     "output_type": "execute_result"
    }
   ],
   "source": [
    "seed = 1176109453\n",
    "random.seed(seed)\n",
    "\n",
    "n=4\n",
    "necklaces3= []\n",
    "for i in range(0,10):\n",
    "    necklaces3.append(gen_necklace(4))\n",
    "\n",
    "necklaces3"
   ]
  },
  {
   "cell_type": "code",
   "execution_count": 9,
   "metadata": {},
   "outputs": [
    {
     "data": {
      "text/plain": [
       "False"
      ]
     },
     "execution_count": 9,
     "metadata": {},
     "output_type": "execute_result"
    }
   ],
   "source": [
    "necklaces2==necklaces3"
   ]
  },
  {
   "cell_type": "code",
   "execution_count": null,
   "metadata": {},
   "outputs": [],
   "source": []
  }
 ],
 "metadata": {
  "kernelspec": {
   "display_name": "Python 3.12.7",
   "language": "python",
   "name": "python3"
  },
  "language_info": {
   "codemirror_mode": {
    "name": "ipython",
    "version": 3
   },
   "file_extension": ".py",
   "mimetype": "text/x-python",
   "name": "python",
   "nbconvert_exporter": "python",
   "pygments_lexer": "ipython3",
   "version": "3.12.7"
  },
  "orig_nbformat": 4,
  "vscode": {
   "interpreter": {
    "hash": "38cca0c38332a56087b24af0bc80247f4fced29cb4f7f437d91dc159adec9c4e"
   }
  }
 },
 "nbformat": 4,
 "nbformat_minor": 2
}
