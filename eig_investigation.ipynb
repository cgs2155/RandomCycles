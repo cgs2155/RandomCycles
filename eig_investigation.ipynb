{
 "cells": [
  {
   "cell_type": "code",
   "execution_count": 1,
   "metadata": {},
   "outputs": [],
   "source": [
    "import numpy as np\n",
    "\n",
    "from _graphtools import *\n",
    "from _vectools import * \n",
    "\n",
    "from scipy.linalg import expm\n",
    "import tqdm as tqdm\n",
    "np.set_printoptions(precision=3,suppress=True)"
   ]
  },
  {
   "cell_type": "code",
   "execution_count": 2,
   "metadata": {},
   "outputs": [],
   "source": [
    "neck = gen_necklace(2)"
   ]
  },
  {
   "cell_type": "code",
   "execution_count": 3,
   "metadata": {},
   "outputs": [
    {
     "name": "stdout",
     "output_type": "stream",
     "text": [
      "[2, 3]\n",
      "[4, 5]\n"
     ]
    }
   ],
   "source": [
    "X = [2]\n",
    "AFB = 2*np.pi/X[0]\n",
    "\n",
    "ftree = fluxedTree(X)\n",
    "ftree.construct_fluxed()\n",
    "rand = generate_rgc(ftree,neck)\n",
    "\n",
    "rand.construct_fluxed()\n",
    "rand.construct_adj()"
   ]
  },
  {
   "cell_type": "code",
   "execution_count": 4,
   "metadata": {},
   "outputs": [
    {
     "data": {
      "image/png": "[encoded data removed]",
      "text/plain": [
       "<Figure size 800x800 with 1 Axes>"
      ]
     },
     "metadata": {},
     "output_type": "display_data"
    }
   ],
   "source": [
    "fig, axes = plt.subplots(1, 1, figsize=(8, 8))  # adjust figsize as needed\n",
    "\n",
    "pl_graph(axes, rand, positions=rgc_coords(X,xd=3,yd=1), vertex_size=350,outline_weight = 1, edge_weight=2,margin=.2)\n",
    "\n",
    "plt.show()"
   ]
  },
  {
   "cell_type": "code",
   "execution_count": 5,
   "metadata": {},
   "outputs": [
    {
     "data": {
      "text/plain": [
       "array([-0.325,  0.444,  0.444,  0.325, -0.444, -0.444])"
      ]
     },
     "execution_count": 5,
     "metadata": {},
     "output_type": "execute_result"
    }
   ],
   "source": [
    "vecs[:,0]"
   ]
  },
  {
   "cell_type": "code",
   "execution_count": 6,
   "metadata": {},
   "outputs": [
    {
     "data": {
      "text/plain": [
       "array([[-0.325, -0.628, -0.   , -0.   , -0.628, -0.325],\n",
       "       [ 0.444,  0.23 , -0.707, -0.   , -0.23 , -0.444],\n",
       "       [ 0.444,  0.23 ,  0.707,  0.   , -0.23 , -0.444],\n",
       "       [ 0.325, -0.628,  0.   , -0.   ,  0.628, -0.325],\n",
       "       [-0.444,  0.23 ,  0.   ,  0.707,  0.23 , -0.444],\n",
       "       [-0.444,  0.23 ,  0.   , -0.707,  0.23 , -0.444]])"
      ]
     },
     "execution_count": 6,
     "metadata": {},
     "output_type": "execute_result"
    }
   ],
   "source": [
    "vecs"
   ]
  },
  {
   "cell_type": "code",
   "execution_count": 7,
   "metadata": {},
   "outputs": [
    {
     "data": {
      "text/plain": [
       "3"
      ]
     },
     "execution_count": 7,
     "metadata": {},
     "output_type": "execute_result"
    }
   ],
   "source": [
    "len(ftree.node_map)"
   ]
  },
  {
   "cell_type": "code",
   "execution_count": 21,
   "metadata": {},
   "outputs": [
    {
     "data": {
      "text/plain": [
       "[2, 3, 1]"
      ]
     },
     "execution_count": 21,
     "metadata": {},
     "output_type": "execute_result"
    }
   ],
   "source": [
    "N = len(list(ftree.node_map.keys()))\n",
    "[N+1-i for i in list(ftree.node_map.keys())]"
   ]
  },
  {
   "cell_type": "code",
   "execution_count": null,
   "metadata": {},
   "outputs": [],
   "source": []
  }
 ],
 "metadata": {
  "kernelspec": {
   "display_name": "Python 3.13.3 ('.RCenv': venv)",
   "language": "python",
   "name": "python3"
  },
  "language_info": {
   "codemirror_mode": {
    "name": "ipython",
    "version": 3
   },
   "file_extension": ".py",
   "mimetype": "text/x-python",
   "name": "python",
   "nbconvert_exporter": "python",
   "pygments_lexer": "ipython3",
   "version": "3.13.3"
  },
  "orig_nbformat": 4,
  "vscode": {
   "interpreter": {
    "hash": "78dd130f53c5a97c71f0a3ea93f8320f35e3548510aefa94dc6e0deb27ebb1f4"
   }
  }
 },
 "nbformat": 4,
 "nbformat_minor": 2
}
