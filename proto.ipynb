{
 "cells": [
  {
   "cell_type": "code",
   "execution_count": 2,
   "metadata": {},
   "outputs": [],
   "source": [
    "import numpy as np\n",
    "\n",
    "from _graphtools import *\n",
    "from _vectools import * \n",
    "\n",
    "from scipy.linalg import expm\n",
    "from scipy.sparse.linalg import expm_multiply"
   ]
  },
  {
   "cell_type": "code",
   "execution_count": null,
   "metadata": {},
   "outputs": [],
   "source": [
    "X = [2]*2\n",
    "AFB = 2*np.pi/X[0]\n",
    "\n",
    "tree =generate_good_tree(X)\n",
    "fig, axes = plt.subplots(1, 1, figsize=(5, 5))  # adjust figsize as needed\n",
    "pl_graph(axes, tree,positions=tree_coords(X,xd=1,yd=1),vertex_size=60,outline_weight = 1, edge_weight=2,margin=.2)\n",
    "plt.show()"
   ]
  },
  {
   "cell_type": "code",
   "execution_count": null,
   "metadata": {},
   "outputs": [],
   "source": [
    "rand = generate_random_cycle_graph(tree)\n",
    "fig, axes = plt.subplots(1, 1, figsize=(8, 8))  # adjust figsize as needed\n",
    "\n",
    "pl_graph(axes, rand, positions=rand_cycle_coords(X,xd=3,yd=1,spacing=1), vertex_size=60,outline_weight = 1, edge_weight=2,margin=.2)\n",
    "\n",
    "plt.show()"
   ]
  },
  {
   "cell_type": "code",
   "execution_count": null,
   "metadata": {},
   "outputs": [],
   "source": [
    "ftree = fluxedTree(X)\n",
    "ftree.construct_fluxed()"
   ]
  },
  {
   "cell_type": "code",
   "execution_count": null,
   "metadata": {},
   "outputs": [],
   "source": [
    "rand = generate_random_cycle_graph(ftree)\n",
    "fig, axes = plt.subplots(1, 1, figsize=(8, 8))  # adjust figsize as needed\n",
    "\n",
    "pl_graph(axes, rand, positions=rand_cycle_coords(X,xd=3,yd=1,spacing=1), vertex_size=60,outline_weight = 1, edge_weight=2,margin=.2)\n",
    "\n",
    "plt.show()"
   ]
  },
  {
   "cell_type": "code",
   "execution_count": null,
   "metadata": {},
   "outputs": [],
   "source": [
    "rand.construct_fluxed()\n",
    "rand.construct_adj()"
   ]
  },
  {
   "cell_type": "code",
   "execution_count": null,
   "metadata": {},
   "outputs": [],
   "source": [
    "bare_hamiltonian = rand.adj\n",
    "fluxed_hamiltonian = rand.weighted_adj(AFB)"
   ]
  },
  {
   "cell_type": "code",
   "execution_count": null,
   "metadata": {},
   "outputs": [],
   "source": [
    "def evolve(H, psi0, t):\n",
    "    U = expm(-1j * H * t)  # time evolution operator U(t)\n",
    "    psi_t = U @ psi0# time evolution operator U(t)\n",
    "    return psi_t"
   ]
  },
  {
   "cell_type": "code",
   "execution_count": null,
   "metadata": {},
   "outputs": [],
   "source": [
    "N = len(rand.node_map)\n",
    "psi_i = e_n(0, N)\n",
    "\n",
    "end = e_n(N-1,N)"
   ]
  },
  {
   "cell_type": "code",
   "execution_count": null,
   "metadata": {},
   "outputs": [],
   "source": [
    "N"
   ]
  },
  {
   "cell_type": "code",
   "execution_count": null,
   "metadata": {},
   "outputs": [],
   "source": [
    "t = np.linspace(0,1000,100)\n",
    "prob_flux = []\n",
    "prob_bare = []\n",
    "for time in t:\n",
    "    prob_flux.append(abs(end @ evolve(fluxed_hamiltonian, psi_i,time))**2 )\n",
    "    prob_bare.append(abs(end @ evolve(bare_hamiltonian, psi_i,time))**2 )"
   ]
  },
  {
   "cell_type": "code",
   "execution_count": null,
   "metadata": {},
   "outputs": [],
   "source": [
    "plt.plot(t, prob_bare,label=r\"$\\Phi = 0$\")\n",
    "plt.plot(t, prob_flux,label=r\"$\\Phi = \\pi$\")\n",
    "\n",
    "plt.legend(fontsize=15)\n"
   ]
  },
  {
   "cell_type": "code",
   "execution_count": null,
   "metadata": {},
   "outputs": [],
   "source": [
    "gt = graph_from_fluxed(cascade(X))\n",
    "gt.construct_fluxed()\n",
    "gt.construct_adj()"
   ]
  },
  {
   "cell_type": "code",
   "execution_count": null,
   "metadata": {},
   "outputs": [],
   "source": [
    "bare_hamiltonian = gt.adj\n",
    "fluxed_hamiltonian = gt.weighted_adj(AFB)"
   ]
  },
  {
   "cell_type": "code",
   "execution_count": null,
   "metadata": {},
   "outputs": [],
   "source": [
    "N = len(gt.node_map)\n",
    "psi_i = e_n(0, N)\n",
    "\n",
    "end = e_n(N-1,N)"
   ]
  },
  {
   "cell_type": "code",
   "execution_count": null,
   "metadata": {},
   "outputs": [],
   "source": [
    "t = np.linspace(0,10,100)\n",
    "prob_flux = []\n",
    "prob_bare = []\n",
    "for time in t:\n",
    "    prob_flux.append(abs(end @ evolve(fluxed_hamiltonian, psi_i,time))**2 )\n",
    "    prob_bare.append(abs(end @ evolve(bare_hamiltonian, psi_i,time))**2 )"
   ]
  },
  {
   "cell_type": "code",
   "execution_count": null,
   "metadata": {},
   "outputs": [],
   "source": [
    "plt.plot(t, prob_bare,label=r\"$\\Phi = 0$\")\n",
    "plt.plot(t, prob_flux,label=r\"$\\Phi = \\pi$\")\n",
    "\n",
    "plt.legend(fontsize=15)\n"
   ]
  },
  {
   "cell_type": "code",
   "execution_count": 1,
   "metadata": {},
   "outputs": [],
   "source": [
    "from _counttools import G, num_rand_cycle,enumerate_necklaces, enumerate_necklaces_tqdm\n",
    "import numpy as np\n",
    "\n",
    "from _graphtools import *\n",
    "from _vectools import * "
   ]
  },
  {
   "cell_type": "code",
   "execution_count": 2,
   "metadata": {},
   "outputs": [
    {
     "data": {
      "image/png": "[encoded data removed]",
      "text/plain": [
       "<Figure size 500x500 with 1 Axes>"
      ]
     },
     "metadata": {},
     "output_type": "display_data"
    }
   ],
   "source": [
    "X = [2]*2\n",
    "AFB = 2*np.pi/X[0]\n",
    "\n",
    "tree =generate_good_tree(X)\n",
    "fig, axes = plt.subplots(1, 1, figsize=(5, 5))  # adjust figsize as needed\n",
    "pl_graph(axes, tree,positions=tree_coords(X,xd=1,yd=1),vertex_size=60,outline_weight = 1, edge_weight=2,margin=.2)\n",
    "plt.show()"
   ]
  },
  {
   "cell_type": "code",
   "execution_count": 3,
   "metadata": {},
   "outputs": [],
   "source": [
    "\n",
    "neck_seed = list(enumerate_necklaces(int(np.prod(X))))[0]"
   ]
  },
  {
   "cell_type": "code",
   "execution_count": 4,
   "metadata": {},
   "outputs": [
    {
     "data": {
      "text/plain": [
       "101606400.0"
      ]
     },
     "execution_count": 4,
     "metadata": {},
     "output_type": "execute_result"
    }
   ],
   "source": [
    "X=[2]*3\n",
    "num_rand_cycle(int(np.prod(X)))"
   ]
  },
  {
   "cell_type": "code",
   "execution_count": 5,
   "metadata": {},
   "outputs": [
    {
     "name": "stderr",
     "output_type": "stream",
     "text": [
      " 33%|███▎      | 66384190/203212800 [30:14<22:37, 100770.44it/s] "
     ]
    }
   ],
   "source": [
    "%%time\n",
    "\n",
    "enumerate_necklaces_tqdm(int(np.prod(X)))"
   ]
  },
  {
   "cell_type": "code",
   "execution_count": 5,
   "metadata": {},
   "outputs": [
    {
     "data": {
      "image/png": "[encoded data removed]",
      "text/plain": [
       "<Figure size 800x800 with 1 Axes>"
      ]
     },
     "metadata": {},
     "output_type": "display_data"
    }
   ],
   "source": [
    "rand = generate_random_cycle_graph(tree,neck_seed)\n",
    "fig, axes = plt.subplots(1, 1, figsize=(8, 8))  # adjust figsize as needed\n",
    "\n",
    "pl_graph(axes, rand, positions=rand_cycle_coords(X,xd=3,yd=1,spacing=1), vertex_size=60,outline_weight = 1, edge_weight=2,margin=.2)\n",
    "\n",
    "plt.show()"
   ]
  },
  {
   "cell_type": "code",
   "execution_count": 6,
   "metadata": {},
   "outputs": [
    {
     "data": {
      "text/plain": [
       "4"
      ]
     },
     "execution_count": 6,
     "metadata": {},
     "output_type": "execute_result"
    }
   ],
   "source": [
    "np.prod(X)"
   ]
  },
  {
   "cell_type": "code",
   "execution_count": 88,
   "metadata": {},
   "outputs": [
    {
     "name": "stderr",
     "output_type": "stream",
     "text": [
      "Iteration2: Sweeping Necklace: 100%|██████████| 72/72 [00:00<00:00, 354.08Necklace/s]\n"
     ]
    }
   ],
   "source": [
    "import numpy as np\n",
    "import math\n",
    "from scipy.linalg import expm\n",
    "from _graphtools import *\n",
    "from _vectools import *\n",
    "from _counttools import *\n",
    "from tqdm import tqdm  # import tqdm for progress bars\n",
    "\n",
    "def evolve(H, psi0, t):\n",
    "    U = expm(-1j * H * t)  # time evolution operator U(t)\n",
    "    psi_t = U @ psi0\n",
    "    return psi_t\n",
    "\n",
    "def U_evo(eigvals, eigvecs, t):\n",
    "    phase_factors = np.exp(-1j * eigvals * t)\n",
    "    return eigvecs @ (phase_factors * (eigvecs.conj().T))\n",
    "\n",
    "def roundup(x):\n",
    "    return math.ceil(x / 10.0) * 10\n",
    "\n",
    "p = 2\n",
    "n_max = 2\n",
    "AFB = 2 * np.pi / p\n",
    "\n",
    "# Loop over different system sizes (or iterations)\n",
    "for i in range(2, n_max+1):\n",
    "    #generate the unfluxed tree2\n",
    "    X = [p] * i\n",
    "    ftree = fluxedTree(X)\n",
    "    ftree.construct_fluxed()\n",
    "\n",
    "    rand = generate_random_cycle_graph(ftree)\n",
    "    rand.construct_adj()\n",
    "    bare_hamiltonian = rand.adj\n",
    "    bare_eigvals, bare_eigvecs = np.linalg.eigh(bare_hamiltonian)\n",
    "\n",
    "    N = len(rand.node_map)\n",
    "    psi_i = e_n(0, N)\n",
    "    end = e_n(N - 1, N)\n",
    "\n",
    "    # Define the time array over which evolution is evaluated\n",
    "    num_time=5   \n",
    "    num_flux=5\n",
    "    t = np.linspace(0, 2*i*p, num_time)\n",
    "    fluxes = np.linspace(2*np.pi/(num_flux),2*np.pi, num_flux-1)\n",
    "    delta_t = t[1]\n",
    "    U_bare = expm(-1j * bare_hamiltonian * delta_t)\n",
    "\n",
    "    prob_bare = [0]\n",
    "    psi_curr_bare = psi_i\n",
    "\n",
    "    # Use tqdm to show progress for each time step\n",
    "    for time in t[1:]:\n",
    "        psi_curr_bare = U_bare@psi_curr_bare\n",
    "        prob_bare.append(np.abs(end.conj() @ psi_curr_bare)**2)\n",
    "\n",
    "    #now generate the averaged fluxed random cycle graph\n",
    "    necklace_seeds = list(enumerate_necklaces(int(np.prod(X))))\n",
    "    prob_flux_dict={0:prob_bare}\n",
    "\n",
    "    for seed in tqdm(necklace_seeds, desc=f\"Iteration{i}: Sweeping Necklace\", unit=\"Necklace\"):\n",
    "        #generate seed\n",
    "        rand = generate_random_cycle_graph(ftree,seed)\n",
    "        rand.construct_fluxed()\n",
    "\n",
    "        #loop over possible fluxes\n",
    "        for flux in fluxes:\n",
    "            #create Hamiltonian for this \n",
    "            fluxed_hamiltonian = rand.weighted_adj(flux) \n",
    "            fluxed_eigvals, fluxed_eigvecs = np.linalg.eigh(fluxed_hamiltonian)   \n",
    "            U_fluxed = expm(-1j * fluxed_hamiltonian * delta_t)\n",
    "        \n",
    "\n",
    "            prob_flux_curr = [0]\n",
    "            psi_curr_fluxed = psi_i\n",
    "    \n",
    "            for time in t[1:]:\n",
    "                psi_curr_fluxed = U_fluxed@psi_curr_fluxed\n",
    "                prob_flux_curr.append(np.abs(end.conj() @ psi_curr_fluxed)**2)\n",
    "            \n",
    "            if flux in prob_flux_dict:\n",
    "                prob_flux_dict[flux].append(prob_flux_curr)\n",
    "            else:\n",
    "                prob_flux_dict[flux] =  [prob_flux_curr]\n",
    "\n",
    "    #average the time-series in the prob_flux_dict in order to get the average evolution over all necklaces\n",
    "    for key, value in prob_flux_dict.items():\n",
    "        prob_flux_dict[key] = [sum(group) / len(group) for group in zip(*value)]    \n",
    "    \n",
    "    # Save the time and probability arrays to a file for later plotting\n",
    "    #filename = f\"walkresults/{p}avg_rc_{i}.npz\"\n",
    "    #np.savez(filename, t=t, prob_flux_dict=prob_flux_dict, prob_bare=prob_bare, fluxed_adj = rand.fluxed)\n",
    "    #print(f\"Results for iteration {i} saved to {filename}\")\n"
   ]
  },
  {
   "cell_type": "code",
   "execution_count": 89,
   "metadata": {},
   "outputs": [
    {
     "data": {
      "text/plain": [
       "dict_keys([0, 1.2566370614359172, 2.9321531433504733, 4.607669225265029, 6.283185307179586])"
      ]
     },
     "execution_count": 89,
     "metadata": {},
     "output_type": "execute_result"
    }
   ],
   "source": [
    "prob_flux_dict.keys()"
   ]
  },
  {
   "cell_type": "code",
   "execution_count": 90,
   "metadata": {},
   "outputs": [
    {
     "data": {
      "text/plain": [
       "[0,\n",
       " 0.1018077242403608,\n",
       " 0.028043872882740486,\n",
       " 0.03878014642772026,\n",
       " 0.005710739555662142]"
      ]
     },
     "execution_count": 90,
     "metadata": {},
     "output_type": "execute_result"
    }
   ],
   "source": [
    "prob_flux_dict[1.2566370614359172][0]"
   ]
  },
  {
   "cell_type": "code",
   "execution_count": 91,
   "metadata": {},
   "outputs": [],
   "source": [
    "a = prob_flux_dict[1.2566370614359172]\n"
   ]
  },
  {
   "cell_type": "code",
   "execution_count": 95,
   "metadata": {},
   "outputs": [],
   "source": [
    "elementwise_average = [sum(group) / len(group) for group in zip(*a)]\n"
   ]
  },
  {
   "cell_type": "code",
   "execution_count": 96,
   "metadata": {},
   "outputs": [
    {
     "data": {
      "text/plain": [
       "[0.0,\n",
       " 0.0722814768958017,\n",
       " 0.09596801655035218,\n",
       " 0.059204419253273896,\n",
       " 0.06249117718978167]"
      ]
     },
     "execution_count": 96,
     "metadata": {},
     "output_type": "execute_result"
    }
   ],
   "source": [
    "elementwise_average"
   ]
  },
  {
   "cell_type": "code",
   "execution_count": null,
   "metadata": {},
   "outputs": [],
   "source": []
  }
 ],
 "metadata": {
  "kernelspec": {
   "display_name": "Python 3.13.3 ('.RCenv': venv)",
   "language": "python",
   "name": "python3"
  },
  "language_info": {
   "codemirror_mode": {
    "name": "ipython",
    "version": 3
   },
   "file_extension": ".py",
   "mimetype": "text/x-python",
   "name": "python",
   "nbconvert_exporter": "python",
   "pygments_lexer": "ipython3",
   "version": "3.13.3"
  },
  "vscode": {
   "interpreter": {
    "hash": "78dd130f53c5a97c71f0a3ea93f8320f35e3548510aefa94dc6e0deb27ebb1f4"
   }
  }
 },
 "nbformat": 4,
 "nbformat_minor": 2
}
